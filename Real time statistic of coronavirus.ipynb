{
 "cells": [
  {
   "cell_type": "code",
   "execution_count": 1,
   "metadata": {},
   "outputs": [],
   "source": [
    "#Coronavirus forecast\n",
    "# get the newest update of overrall state "
   ]
  },
  {
   "cell_type": "code",
   "execution_count": 2,
   "metadata": {},
   "outputs": [],
   "source": [
    "import pandas as pd\n",
    "\n",
    "#handnle raw data\n",
    "import utils\n",
    "\n",
    "import numpy as np\n",
    "import os"
   ]
  },
  {
   "cell_type": "code",
   "execution_count": 3,
   "metadata": {},
   "outputs": [
    {
     "name": "stdout",
     "output_type": "stream",
     "text": [
      "updated on:  2020-02-10 16:45:25.360000\n",
      "date range  2020-01-24 to 2020-02-10\n",
      "number of data:  30227\n"
     ]
    }
   ],
   "source": [
    "#df=utils.load_chinese_data()\n",
    "_DXY_DATA_PATH_ = 'https://raw.githubusercontent.com/BlankerL/DXY-2019-nCoV-Data/master/csv/DXYArea.csv'\n",
    "df = pd.read_csv(_DXY_DATA_PATH_)\n",
    "df['updateTime'] = pd.to_datetime(df['updateTime'])  # original type of updateTime after read_csv is 'str'\n",
    "df['updateDate'] = df['updateTime'].dt.date    # add date for daily aggregation\n",
    "# display basic info\n",
    "print('updated on: ', df['updateTime'].max())\n",
    "print('date range ', df['updateDate'].min(), 'to', df['updateDate'].max())\n",
    "print('number of data: ', df.shape[0])"
   ]
  },
  {
   "cell_type": "code",
   "execution_count": 4,
   "metadata": {},
   "outputs": [
    {
     "data": {
      "text/html": [
       "<div>\n",
       "<style scoped>\n",
       "    .dataframe tbody tr th:only-of-type {\n",
       "        vertical-align: middle;\n",
       "    }\n",
       "\n",
       "    .dataframe tbody tr th {\n",
       "        vertical-align: top;\n",
       "    }\n",
       "\n",
       "    .dataframe thead th {\n",
       "        text-align: right;\n",
       "    }\n",
       "</style>\n",
       "<table border=\"1\" class=\"dataframe\">\n",
       "  <thead>\n",
       "    <tr style=\"text-align: right;\">\n",
       "      <th></th>\n",
       "      <th>provinceName</th>\n",
       "      <th>cityName</th>\n",
       "      <th>province_confirmedCount</th>\n",
       "      <th>province_suspectedCount</th>\n",
       "      <th>province_curedCount</th>\n",
       "      <th>province_deadCount</th>\n",
       "      <th>city_confirmedCount</th>\n",
       "      <th>city_suspectedCount</th>\n",
       "      <th>city_curedCount</th>\n",
       "      <th>city_deadCount</th>\n",
       "      <th>updateTime</th>\n",
       "      <th>updateDate</th>\n",
       "    </tr>\n",
       "  </thead>\n",
       "  <tbody>\n",
       "    <tr>\n",
       "      <th>0</th>\n",
       "      <td>广东省</td>\n",
       "      <td>深圳</td>\n",
       "      <td>1159</td>\n",
       "      <td>0</td>\n",
       "      <td>165</td>\n",
       "      <td>1</td>\n",
       "      <td>369</td>\n",
       "      <td>0</td>\n",
       "      <td>56</td>\n",
       "      <td>0</td>\n",
       "      <td>2020-02-10 16:45:25.360</td>\n",
       "      <td>2020-02-10</td>\n",
       "    </tr>\n",
       "    <tr>\n",
       "      <th>1</th>\n",
       "      <td>广东省</td>\n",
       "      <td>广州</td>\n",
       "      <td>1159</td>\n",
       "      <td>0</td>\n",
       "      <td>165</td>\n",
       "      <td>1</td>\n",
       "      <td>314</td>\n",
       "      <td>0</td>\n",
       "      <td>42</td>\n",
       "      <td>0</td>\n",
       "      <td>2020-02-10 16:45:25.360</td>\n",
       "      <td>2020-02-10</td>\n",
       "    </tr>\n",
       "    <tr>\n",
       "      <th>2</th>\n",
       "      <td>广东省</td>\n",
       "      <td>珠海</td>\n",
       "      <td>1159</td>\n",
       "      <td>0</td>\n",
       "      <td>165</td>\n",
       "      <td>1</td>\n",
       "      <td>85</td>\n",
       "      <td>0</td>\n",
       "      <td>4</td>\n",
       "      <td>0</td>\n",
       "      <td>2020-02-10 16:45:25.360</td>\n",
       "      <td>2020-02-10</td>\n",
       "    </tr>\n",
       "    <tr>\n",
       "      <th>3</th>\n",
       "      <td>广东省</td>\n",
       "      <td>佛山</td>\n",
       "      <td>1159</td>\n",
       "      <td>0</td>\n",
       "      <td>165</td>\n",
       "      <td>1</td>\n",
       "      <td>70</td>\n",
       "      <td>0</td>\n",
       "      <td>4</td>\n",
       "      <td>0</td>\n",
       "      <td>2020-02-10 16:45:25.360</td>\n",
       "      <td>2020-02-10</td>\n",
       "    </tr>\n",
       "    <tr>\n",
       "      <th>4</th>\n",
       "      <td>广东省</td>\n",
       "      <td>东莞</td>\n",
       "      <td>1159</td>\n",
       "      <td>0</td>\n",
       "      <td>165</td>\n",
       "      <td>1</td>\n",
       "      <td>60</td>\n",
       "      <td>0</td>\n",
       "      <td>3</td>\n",
       "      <td>0</td>\n",
       "      <td>2020-02-10 16:45:25.360</td>\n",
       "      <td>2020-02-10</td>\n",
       "    </tr>\n",
       "  </tbody>\n",
       "</table>\n",
       "</div>"
      ],
      "text/plain": [
       "  provinceName cityName  province_confirmedCount  province_suspectedCount  \\\n",
       "0          广东省       深圳                     1159                        0   \n",
       "1          广东省       广州                     1159                        0   \n",
       "2          广东省       珠海                     1159                        0   \n",
       "3          广东省       佛山                     1159                        0   \n",
       "4          广东省       东莞                     1159                        0   \n",
       "\n",
       "   province_curedCount  province_deadCount  city_confirmedCount  \\\n",
       "0                  165                   1                  369   \n",
       "1                  165                   1                  314   \n",
       "2                  165                   1                   85   \n",
       "3                  165                   1                   70   \n",
       "4                  165                   1                   60   \n",
       "\n",
       "   city_suspectedCount  city_curedCount  city_deadCount  \\\n",
       "0                    0               56               0   \n",
       "1                    0               42               0   \n",
       "2                    0                4               0   \n",
       "3                    0                4               0   \n",
       "4                    0                3               0   \n",
       "\n",
       "               updateTime  updateDate  \n",
       "0 2020-02-10 16:45:25.360  2020-02-10  \n",
       "1 2020-02-10 16:45:25.360  2020-02-10  \n",
       "2 2020-02-10 16:45:25.360  2020-02-10  \n",
       "3 2020-02-10 16:45:25.360  2020-02-10  \n",
       "4 2020-02-10 16:45:25.360  2020-02-10  "
      ]
     },
     "execution_count": 4,
     "metadata": {},
     "output_type": "execute_result"
    }
   ],
   "source": [
    "df.head(5)"
   ]
  },
  {
   "cell_type": "code",
   "execution_count": 5,
   "metadata": {},
   "outputs": [
    {
     "data": {
      "text/plain": [
       "Index(['provinceName', 'cityName', 'province_confirmedCount',\n",
       "       'province_suspectedCount', 'province_curedCount', 'province_deadCount',\n",
       "       'city_confirmedCount', 'city_suspectedCount', 'city_curedCount',\n",
       "       'city_deadCount', 'updateTime', 'updateDate'],\n",
       "      dtype='object')"
      ]
     },
     "execution_count": 5,
     "metadata": {},
     "output_type": "execute_result"
    }
   ],
   "source": [
    "df.columns"
   ]
  },
  {
   "cell_type": "code",
   "execution_count": 6,
   "metadata": {},
   "outputs": [],
   "source": [
    "#select on sample \n",
    "sample=df[df.cityName=='牡丹江']"
   ]
  },
  {
   "cell_type": "code",
   "execution_count": 7,
   "metadata": {},
   "outputs": [
    {
     "data": {
      "text/plain": [
       "166     2020-02-10 15:27:06.531\n",
       "338     2020-02-10 13:44:34.992\n",
       "1131    2020-02-10 08:24:43.433\n",
       "2411    2020-02-09 16:36:17.092\n",
       "2453    2020-02-09 16:35:16.423\n",
       "3892    2020-02-09 08:55:45.123\n",
       "5018    2020-02-08 16:32:08.225\n",
       "6065    2020-02-08 12:01:33.720\n",
       "6297    2020-02-08 10:07:03.993\n",
       "6399    2020-02-08 09:48:47.924\n",
       "7924    2020-02-07 15:39:47.159\n",
       "7947    2020-02-07 15:38:46.248\n",
       "8411    2020-02-07 12:56:42.519\n",
       "8543    2020-02-07 11:28:35.167\n",
       "9026    2020-02-07 09:33:04.188\n",
       "9161    2020-02-07 09:14:51.298\n",
       "9217    2020-02-07 09:01:42.299\n",
       "10451   2020-02-06 16:09:14.631\n",
       "10463   2020-02-06 16:07:13.266\n",
       "10823   2020-02-06 12:26:29.302\n",
       "11254   2020-02-06 09:47:31.251\n",
       "11267   2020-02-06 09:46:30.407\n",
       "11388   2020-02-06 09:20:10.679\n",
       "11400   2020-02-06 09:18:09.354\n",
       "11412   2020-02-06 09:16:07.870\n",
       "12118   2020-02-05 20:04:57.566\n",
       "12413   2020-02-05 18:04:02.663\n",
       "12425   2020-02-05 17:38:16.315\n",
       "12437   2020-02-05 17:37:15.758\n",
       "13481   2020-02-05 09:22:31.796\n",
       "Name: updateTime, dtype: datetime64[ns]"
      ]
     },
     "execution_count": 7,
     "metadata": {},
     "output_type": "execute_result"
    }
   ],
   "source": [
    "sample.updateTime[:30]"
   ]
  },
  {
   "cell_type": "code",
   "execution_count": 8,
   "metadata": {},
   "outputs": [
    {
     "data": {
      "text/plain": [
       "'\\nas the date provide by api, the number of each day is different\\nclear the dataframe to extract the representer for each day\\n'"
      ]
     },
     "execution_count": 8,
     "metadata": {},
     "output_type": "execute_result"
    }
   ],
   "source": [
    "'''\n",
    "as the date provide by api, the number of each day is different\n",
    "clear the dataframe to extract the representer for each day\n",
    "'''"
   ]
  },
  {
   "cell_type": "code",
   "execution_count": 9,
   "metadata": {},
   "outputs": [],
   "source": [
    "#drop provinceConfirmedcunt, cured, dead, as can added all the cities in one province\n",
    "temp=df.drop(['province_confirmedCount', 'province_suspectedCount', 'province_curedCount', 'province_deadCount'],axis=1)"
   ]
  },
  {
   "cell_type": "code",
   "execution_count": 10,
   "metadata": {},
   "outputs": [
    {
     "data": {
      "text/plain": [
       "False"
      ]
     },
     "execution_count": 10,
     "metadata": {},
     "output_type": "execute_result"
    }
   ],
   "source": [
    "temp is pd.DataFrame"
   ]
  },
  {
   "cell_type": "code",
   "execution_count": 11,
   "metadata": {},
   "outputs": [],
   "source": [
    "#remove some data that too short\n",
    "    #agg for aggragate\n",
    "counter=temp.groupby('updateDate').agg({'provinceName': pd.Series.nunique})"
   ]
  },
  {
   "cell_type": "code",
   "execution_count": 12,
   "metadata": {},
   "outputs": [
    {
     "data": {
      "text/html": [
       "<div>\n",
       "<style scoped>\n",
       "    .dataframe tbody tr th:only-of-type {\n",
       "        vertical-align: middle;\n",
       "    }\n",
       "\n",
       "    .dataframe tbody tr th {\n",
       "        vertical-align: top;\n",
       "    }\n",
       "\n",
       "    .dataframe thead th {\n",
       "        text-align: right;\n",
       "    }\n",
       "</style>\n",
       "<table border=\"1\" class=\"dataframe\">\n",
       "  <thead>\n",
       "    <tr style=\"text-align: right;\">\n",
       "      <th></th>\n",
       "      <th>provinceName</th>\n",
       "      <th>cityName</th>\n",
       "      <th>city_confirmedCount</th>\n",
       "      <th>city_suspectedCount</th>\n",
       "      <th>city_curedCount</th>\n",
       "      <th>city_deadCount</th>\n",
       "      <th>updateTime</th>\n",
       "      <th>updateDate</th>\n",
       "    </tr>\n",
       "  </thead>\n",
       "  <tbody>\n",
       "    <tr>\n",
       "      <th>0</th>\n",
       "      <td>广东省</td>\n",
       "      <td>深圳</td>\n",
       "      <td>369</td>\n",
       "      <td>0</td>\n",
       "      <td>56</td>\n",
       "      <td>0</td>\n",
       "      <td>2020-02-10 16:45:25.360</td>\n",
       "      <td>2020-02-10</td>\n",
       "    </tr>\n",
       "    <tr>\n",
       "      <th>1</th>\n",
       "      <td>广东省</td>\n",
       "      <td>广州</td>\n",
       "      <td>314</td>\n",
       "      <td>0</td>\n",
       "      <td>42</td>\n",
       "      <td>0</td>\n",
       "      <td>2020-02-10 16:45:25.360</td>\n",
       "      <td>2020-02-10</td>\n",
       "    </tr>\n",
       "    <tr>\n",
       "      <th>2</th>\n",
       "      <td>广东省</td>\n",
       "      <td>珠海</td>\n",
       "      <td>85</td>\n",
       "      <td>0</td>\n",
       "      <td>4</td>\n",
       "      <td>0</td>\n",
       "      <td>2020-02-10 16:45:25.360</td>\n",
       "      <td>2020-02-10</td>\n",
       "    </tr>\n",
       "    <tr>\n",
       "      <th>3</th>\n",
       "      <td>广东省</td>\n",
       "      <td>佛山</td>\n",
       "      <td>70</td>\n",
       "      <td>0</td>\n",
       "      <td>4</td>\n",
       "      <td>0</td>\n",
       "      <td>2020-02-10 16:45:25.360</td>\n",
       "      <td>2020-02-10</td>\n",
       "    </tr>\n",
       "    <tr>\n",
       "      <th>4</th>\n",
       "      <td>广东省</td>\n",
       "      <td>东莞</td>\n",
       "      <td>60</td>\n",
       "      <td>0</td>\n",
       "      <td>3</td>\n",
       "      <td>0</td>\n",
       "      <td>2020-02-10 16:45:25.360</td>\n",
       "      <td>2020-02-10</td>\n",
       "    </tr>\n",
       "    <tr>\n",
       "      <th>...</th>\n",
       "      <td>...</td>\n",
       "      <td>...</td>\n",
       "      <td>...</td>\n",
       "      <td>...</td>\n",
       "      <td>...</td>\n",
       "      <td>...</td>\n",
       "      <td>...</td>\n",
       "      <td>...</td>\n",
       "    </tr>\n",
       "    <tr>\n",
       "      <th>30222</th>\n",
       "      <td>云南省</td>\n",
       "      <td>昆明</td>\n",
       "      <td>2</td>\n",
       "      <td>0</td>\n",
       "      <td>0</td>\n",
       "      <td>0</td>\n",
       "      <td>2020-01-24 03:50:31.353</td>\n",
       "      <td>2020-01-24</td>\n",
       "    </tr>\n",
       "    <tr>\n",
       "      <th>30223</th>\n",
       "      <td>山西省</td>\n",
       "      <td>太原</td>\n",
       "      <td>1</td>\n",
       "      <td>0</td>\n",
       "      <td>0</td>\n",
       "      <td>0</td>\n",
       "      <td>2020-01-24 03:50:31.353</td>\n",
       "      <td>2020-01-24</td>\n",
       "    </tr>\n",
       "    <tr>\n",
       "      <th>30224</th>\n",
       "      <td>吉林省</td>\n",
       "      <td>长春</td>\n",
       "      <td>1</td>\n",
       "      <td>0</td>\n",
       "      <td>0</td>\n",
       "      <td>0</td>\n",
       "      <td>2020-01-24 03:50:31.353</td>\n",
       "      <td>2020-01-24</td>\n",
       "    </tr>\n",
       "    <tr>\n",
       "      <th>30225</th>\n",
       "      <td>河北省</td>\n",
       "      <td>石家庄</td>\n",
       "      <td>1</td>\n",
       "      <td>0</td>\n",
       "      <td>0</td>\n",
       "      <td>0</td>\n",
       "      <td>2020-01-24 03:50:31.353</td>\n",
       "      <td>2020-01-24</td>\n",
       "    </tr>\n",
       "    <tr>\n",
       "      <th>30226</th>\n",
       "      <td>宁夏回族自治区</td>\n",
       "      <td>银川</td>\n",
       "      <td>1</td>\n",
       "      <td>0</td>\n",
       "      <td>0</td>\n",
       "      <td>0</td>\n",
       "      <td>2020-01-24 03:50:31.353</td>\n",
       "      <td>2020-01-24</td>\n",
       "    </tr>\n",
       "  </tbody>\n",
       "</table>\n",
       "<p>30227 rows × 8 columns</p>\n",
       "</div>"
      ],
      "text/plain": [
       "      provinceName cityName  city_confirmedCount  city_suspectedCount  \\\n",
       "0              广东省       深圳                  369                    0   \n",
       "1              广东省       广州                  314                    0   \n",
       "2              广东省       珠海                   85                    0   \n",
       "3              广东省       佛山                   70                    0   \n",
       "4              广东省       东莞                   60                    0   \n",
       "...            ...      ...                  ...                  ...   \n",
       "30222          云南省       昆明                    2                    0   \n",
       "30223          山西省       太原                    1                    0   \n",
       "30224          吉林省       长春                    1                    0   \n",
       "30225          河北省      石家庄                    1                    0   \n",
       "30226      宁夏回族自治区       银川                    1                    0   \n",
       "\n",
       "       city_curedCount  city_deadCount              updateTime  updateDate  \n",
       "0                   56               0 2020-02-10 16:45:25.360  2020-02-10  \n",
       "1                   42               0 2020-02-10 16:45:25.360  2020-02-10  \n",
       "2                    4               0 2020-02-10 16:45:25.360  2020-02-10  \n",
       "3                    4               0 2020-02-10 16:45:25.360  2020-02-10  \n",
       "4                    3               0 2020-02-10 16:45:25.360  2020-02-10  \n",
       "...                ...             ...                     ...         ...  \n",
       "30222                0               0 2020-01-24 03:50:31.353  2020-01-24  \n",
       "30223                0               0 2020-01-24 03:50:31.353  2020-01-24  \n",
       "30224                0               0 2020-01-24 03:50:31.353  2020-01-24  \n",
       "30225                0               0 2020-01-24 03:50:31.353  2020-01-24  \n",
       "30226                0               0 2020-01-24 03:50:31.353  2020-01-24  \n",
       "\n",
       "[30227 rows x 8 columns]"
      ]
     },
     "execution_count": 12,
     "metadata": {},
     "output_type": "execute_result"
    }
   ],
   "source": [
    "temp_drop=counter[counter['provinceName']<25].index\n",
    "temp[~temp['updateDate'].isin(temp_drop)]"
   ]
  },
  {
   "cell_type": "code",
   "execution_count": 13,
   "metadata": {},
   "outputs": [],
   "source": [
    "re=temp.groupby(['cityName','updateDate'])\n",
    "new_df=pd.DataFrame([], columns=temp.columns)\n",
    "for key, values in re:\n",
    "    new_df=pd.concat([new_df, re.get_group(key).sort_values('updateTime', ascending=False)[:1]])"
   ]
  },
  {
   "cell_type": "code",
   "execution_count": 14,
   "metadata": {
    "scrolled": false
   },
   "outputs": [
    {
     "data": {
      "text/html": [
       "<div>\n",
       "<style scoped>\n",
       "    .dataframe tbody tr th:only-of-type {\n",
       "        vertical-align: middle;\n",
       "    }\n",
       "\n",
       "    .dataframe tbody tr th {\n",
       "        vertical-align: top;\n",
       "    }\n",
       "\n",
       "    .dataframe thead th {\n",
       "        text-align: right;\n",
       "    }\n",
       "</style>\n",
       "<table border=\"1\" class=\"dataframe\">\n",
       "  <thead>\n",
       "    <tr style=\"text-align: right;\">\n",
       "      <th></th>\n",
       "      <th>provinceName</th>\n",
       "      <th>cityName</th>\n",
       "      <th>city_confirmedCount</th>\n",
       "      <th>city_suspectedCount</th>\n",
       "      <th>city_curedCount</th>\n",
       "      <th>city_deadCount</th>\n",
       "      <th>updateTime</th>\n",
       "      <th>updateDate</th>\n",
       "    </tr>\n",
       "  </thead>\n",
       "  <tbody>\n",
       "    <tr>\n",
       "      <th>26973</th>\n",
       "      <td>黑龙江省</td>\n",
       "      <td>七台河</td>\n",
       "      <td>1</td>\n",
       "      <td>0</td>\n",
       "      <td>0</td>\n",
       "      <td>0</td>\n",
       "      <td>2020-01-27 09:10:03.105</td>\n",
       "      <td>2020-01-27</td>\n",
       "    </tr>\n",
       "    <tr>\n",
       "      <th>26031</th>\n",
       "      <td>黑龙江省</td>\n",
       "      <td>七台河</td>\n",
       "      <td>2</td>\n",
       "      <td>0</td>\n",
       "      <td>0</td>\n",
       "      <td>0</td>\n",
       "      <td>2020-01-28 09:05:57.968</td>\n",
       "      <td>2020-01-28</td>\n",
       "    </tr>\n",
       "    <tr>\n",
       "      <th>24725</th>\n",
       "      <td>黑龙江省</td>\n",
       "      <td>七台河</td>\n",
       "      <td>2</td>\n",
       "      <td>0</td>\n",
       "      <td>0</td>\n",
       "      <td>0</td>\n",
       "      <td>2020-01-29 14:36:48.788</td>\n",
       "      <td>2020-01-29</td>\n",
       "    </tr>\n",
       "    <tr>\n",
       "      <th>23242</th>\n",
       "      <td>黑龙江省</td>\n",
       "      <td>七台河</td>\n",
       "      <td>2</td>\n",
       "      <td>0</td>\n",
       "      <td>0</td>\n",
       "      <td>0</td>\n",
       "      <td>2020-01-30 23:05:57.689</td>\n",
       "      <td>2020-01-30</td>\n",
       "    </tr>\n",
       "    <tr>\n",
       "      <th>22853</th>\n",
       "      <td>黑龙江省</td>\n",
       "      <td>七台河</td>\n",
       "      <td>3</td>\n",
       "      <td>0</td>\n",
       "      <td>0</td>\n",
       "      <td>0</td>\n",
       "      <td>2020-01-31 09:06:24.750</td>\n",
       "      <td>2020-01-31</td>\n",
       "    </tr>\n",
       "    <tr>\n",
       "      <th>19840</th>\n",
       "      <td>黑龙江省</td>\n",
       "      <td>七台河</td>\n",
       "      <td>5</td>\n",
       "      <td>0</td>\n",
       "      <td>0</td>\n",
       "      <td>0</td>\n",
       "      <td>2020-02-01 18:29:15.389</td>\n",
       "      <td>2020-02-01</td>\n",
       "    </tr>\n",
       "    <tr>\n",
       "      <th>18516</th>\n",
       "      <td>黑龙江省</td>\n",
       "      <td>七台河</td>\n",
       "      <td>6</td>\n",
       "      <td>0</td>\n",
       "      <td>0</td>\n",
       "      <td>0</td>\n",
       "      <td>2020-02-02 11:18:10.235</td>\n",
       "      <td>2020-02-02</td>\n",
       "    </tr>\n",
       "    <tr>\n",
       "      <th>16634</th>\n",
       "      <td>黑龙江省</td>\n",
       "      <td>七台河</td>\n",
       "      <td>7</td>\n",
       "      <td>0</td>\n",
       "      <td>0</td>\n",
       "      <td>0</td>\n",
       "      <td>2020-02-03 15:10:41.923</td>\n",
       "      <td>2020-02-03</td>\n",
       "    </tr>\n",
       "    <tr>\n",
       "      <th>14861</th>\n",
       "      <td>黑龙江省</td>\n",
       "      <td>七台河</td>\n",
       "      <td>8</td>\n",
       "      <td>0</td>\n",
       "      <td>0</td>\n",
       "      <td>0</td>\n",
       "      <td>2020-02-04 15:37:37.598</td>\n",
       "      <td>2020-02-04</td>\n",
       "    </tr>\n",
       "    <tr>\n",
       "      <th>12119</th>\n",
       "      <td>黑龙江省</td>\n",
       "      <td>七台河</td>\n",
       "      <td>9</td>\n",
       "      <td>0</td>\n",
       "      <td>0</td>\n",
       "      <td>0</td>\n",
       "      <td>2020-02-05 20:04:57.566</td>\n",
       "      <td>2020-02-05</td>\n",
       "    </tr>\n",
       "    <tr>\n",
       "      <th>10452</th>\n",
       "      <td>黑龙江省</td>\n",
       "      <td>七台河</td>\n",
       "      <td>9</td>\n",
       "      <td>0</td>\n",
       "      <td>0</td>\n",
       "      <td>0</td>\n",
       "      <td>2020-02-06 16:09:14.631</td>\n",
       "      <td>2020-02-06</td>\n",
       "    </tr>\n",
       "    <tr>\n",
       "      <th>7925</th>\n",
       "      <td>黑龙江省</td>\n",
       "      <td>七台河</td>\n",
       "      <td>10</td>\n",
       "      <td>0</td>\n",
       "      <td>0</td>\n",
       "      <td>0</td>\n",
       "      <td>2020-02-07 15:39:47.159</td>\n",
       "      <td>2020-02-07</td>\n",
       "    </tr>\n",
       "    <tr>\n",
       "      <th>5021</th>\n",
       "      <td>黑龙江省</td>\n",
       "      <td>七台河</td>\n",
       "      <td>11</td>\n",
       "      <td>0</td>\n",
       "      <td>0</td>\n",
       "      <td>0</td>\n",
       "      <td>2020-02-08 16:32:08.225</td>\n",
       "      <td>2020-02-08</td>\n",
       "    </tr>\n",
       "    <tr>\n",
       "      <th>2410</th>\n",
       "      <td>黑龙江省</td>\n",
       "      <td>七台河</td>\n",
       "      <td>13</td>\n",
       "      <td>0</td>\n",
       "      <td>0</td>\n",
       "      <td>0</td>\n",
       "      <td>2020-02-09 16:36:17.092</td>\n",
       "      <td>2020-02-09</td>\n",
       "    </tr>\n",
       "    <tr>\n",
       "      <th>164</th>\n",
       "      <td>黑龙江省</td>\n",
       "      <td>七台河</td>\n",
       "      <td>14</td>\n",
       "      <td>0</td>\n",
       "      <td>0</td>\n",
       "      <td>0</td>\n",
       "      <td>2020-02-10 15:27:06.531</td>\n",
       "      <td>2020-02-10</td>\n",
       "    </tr>\n",
       "  </tbody>\n",
       "</table>\n",
       "</div>"
      ],
      "text/plain": [
       "      provinceName cityName city_confirmedCount city_suspectedCount  \\\n",
       "26973         黑龙江省      七台河                   1                   0   \n",
       "26031         黑龙江省      七台河                   2                   0   \n",
       "24725         黑龙江省      七台河                   2                   0   \n",
       "23242         黑龙江省      七台河                   2                   0   \n",
       "22853         黑龙江省      七台河                   3                   0   \n",
       "19840         黑龙江省      七台河                   5                   0   \n",
       "18516         黑龙江省      七台河                   6                   0   \n",
       "16634         黑龙江省      七台河                   7                   0   \n",
       "14861         黑龙江省      七台河                   8                   0   \n",
       "12119         黑龙江省      七台河                   9                   0   \n",
       "10452         黑龙江省      七台河                   9                   0   \n",
       "7925          黑龙江省      七台河                  10                   0   \n",
       "5021          黑龙江省      七台河                  11                   0   \n",
       "2410          黑龙江省      七台河                  13                   0   \n",
       "164           黑龙江省      七台河                  14                   0   \n",
       "\n",
       "      city_curedCount city_deadCount              updateTime  updateDate  \n",
       "26973               0              0 2020-01-27 09:10:03.105  2020-01-27  \n",
       "26031               0              0 2020-01-28 09:05:57.968  2020-01-28  \n",
       "24725               0              0 2020-01-29 14:36:48.788  2020-01-29  \n",
       "23242               0              0 2020-01-30 23:05:57.689  2020-01-30  \n",
       "22853               0              0 2020-01-31 09:06:24.750  2020-01-31  \n",
       "19840               0              0 2020-02-01 18:29:15.389  2020-02-01  \n",
       "18516               0              0 2020-02-02 11:18:10.235  2020-02-02  \n",
       "16634               0              0 2020-02-03 15:10:41.923  2020-02-03  \n",
       "14861               0              0 2020-02-04 15:37:37.598  2020-02-04  \n",
       "12119               0              0 2020-02-05 20:04:57.566  2020-02-05  \n",
       "10452               0              0 2020-02-06 16:09:14.631  2020-02-06  \n",
       "7925                0              0 2020-02-07 15:39:47.159  2020-02-07  \n",
       "5021                0              0 2020-02-08 16:32:08.225  2020-02-08  \n",
       "2410                0              0 2020-02-09 16:36:17.092  2020-02-09  \n",
       "164                 0              0 2020-02-10 15:27:06.531  2020-02-10  "
      ]
     },
     "execution_count": 14,
     "metadata": {},
     "output_type": "execute_result"
    }
   ],
   "source": [
    "#updateDate not duplicated now \n",
    "new_df[new_df['cityName']=='七台河']"
   ]
  },
  {
   "cell_type": "code",
   "execution_count": 15,
   "metadata": {},
   "outputs": [
    {
     "name": "stdout",
     "output_type": "stream",
     "text": [
      "/Users/timyang/Documents/Data_Analysis/lib/python3.7/site-packages/matplotlib/mpl-data/matplotlibrc\n"
     ]
    }
   ],
   "source": [
    "import matplotlib\n",
    "print(matplotlib.matplotlib_fname())"
   ]
  },
  {
   "cell_type": "code",
   "execution_count": 16,
   "metadata": {},
   "outputs": [],
   "source": [
    "import matplotlib.font_manager\n",
    "matplotlib.font_manager._rebuild()"
   ]
  },
  {
   "cell_type": "code",
   "execution_count": 35,
   "metadata": {},
   "outputs": [
    {
     "data": {
      "text/plain": [
       "[<Font 'Heiti TC' (STHeiti Medium.ttc) normal normal medium normal>,\n",
       " <Font 'Heiti TC' (STHeiti Light.ttc) normal normal light normal>]"
      ]
     },
     "execution_count": 35,
     "metadata": {},
     "output_type": "execute_result"
    }
   ],
   "source": [
    "[f for f in matplotlib.font_manager.fontManager.ttflist if 'Heiti' in f.name]"
   ]
  },
  {
   "cell_type": "code",
   "execution_count": 40,
   "metadata": {},
   "outputs": [],
   "source": [
    "matplotlib.rcParams['font.family']=['Heiti TC']"
   ]
  },
  {
   "cell_type": "code",
   "execution_count": 41,
   "metadata": {},
   "outputs": [],
   "source": [
    "def horizontal_compare(df, date_str, col, title='', groupby='provinceName', largestN=0, figsize=(13, 10), fontsize=15):\n",
    "    date = pd.to_datetime(date_str)\n",
    "    df_date = df[df['updateDate'] == date]\n",
    "    group_frm = df_date.groupby(groupby).agg('sum').sort_values(by=col, ascending=True)\n",
    "    if largestN > 0:\n",
    "        group_frm = group_frm[-largestN:]  # only plot the first N bars\n",
    "    ax = group_frm.plot.barh(y=col, grid=True, figsize=figsize)\n",
    "    ax.set_yticklabels(group_frm.index) \n",
    "    ax.set_title(date_str + '  ' + title, fontsize=fontsize)\n",
    "    ax.legend(loc='lower right')\n",
    "    return ax"
   ]
  },
  {
   "cell_type": "code",
   "execution_count": 42,
   "metadata": {},
   "outputs": [
    {
     "data": {
      "text/plain": [
       "Index(['provinceName', 'cityName', 'city_confirmedCount',\n",
       "       'city_suspectedCount', 'city_curedCount', 'city_deadCount',\n",
       "       'updateTime', 'updateDate'],\n",
       "      dtype='object')"
      ]
     },
     "execution_count": 42,
     "metadata": {},
     "output_type": "execute_result"
    }
   ],
   "source": [
    "new_df.columns"
   ]
  },
  {
   "cell_type": "code",
   "execution_count": 43,
   "metadata": {
    "scrolled": false
   },
   "outputs": [
    {
     "data": {
      "text/plain": [
       "<matplotlib.axes._subplots.AxesSubplot at 0x118f57ad0>"
      ]
     },
     "execution_count": 43,
     "metadata": {},
     "output_type": "execute_result"
    },
    {
     "data": {
      "image/png": "[encoded data removed]",
      "text/plain": [
       "<Figure size 936x720 with 1 Axes>"
      ]
     },
     "metadata": {
      "needs_background": "light"
     },
     "output_type": "display_data"
    }
   ],
   "source": [
    "horizontal_compare(new_df, '2020-02-10', col='city_confirmedCount', groupby='provinceName', title='Confirmed in provinces')"
   ]
  },
  {
   "cell_type": "code",
   "execution_count": 49,
   "metadata": {},
   "outputs": [
    {
     "data": {
      "text/plain": [
       "<matplotlib.axes._subplots.AxesSubplot at 0x11b25ef50>"
      ]
     },
     "execution_count": 49,
     "metadata": {},
     "output_type": "execute_result"
    },
    {
     "data": {
      "image/png": "[encoded data removed]",
      "text/plain": [
       "<Figure size 936x720 with 1 Axes>"
      ]
     },
     "metadata": {
      "needs_background": "light"
     },
     "output_type": "display_data"
    }
   ],
   "source": [
    "horizontal_compare(new_df[new_df['provinceName']=='湖北省'], '2020-02-10', col='city_confirmedCount', groupby='cityName', title='Confirmed injection number of each cities in Hubei')"
   ]
  },
  {
   "cell_type": "code",
   "execution_count": 51,
   "metadata": {},
   "outputs": [
    {
     "data": {
      "text/plain": [
       "<matplotlib.axes._subplots.AxesSubplot at 0x11b2e7fd0>"
      ]
     },
     "execution_count": 51,
     "metadata": {},
     "output_type": "execute_result"
    },
    {
     "data": {
      "image/png": "[encoded data removed]",
      "text/plain": [
       "<Figure size 936x720 with 1 Axes>"
      ]
     },
     "metadata": {
      "needs_background": "light"
     },
     "output_type": "display_data"
    }
   ],
   "source": [
    "horizontal_compare(new_df[new_df['provinceName']=='湖北省'], '2020-02-10', col='city_curedCount', groupby='cityName', title='Cured number of each cities in Hubei')"
   ]
  },
  {
   "cell_type": "code",
   "execution_count": null,
   "metadata": {},
   "outputs": [],
   "source": []
  }
 ],
 "metadata": {
  "kernelspec": {
   "display_name": "Python 3",
   "language": "python",
   "name": "python3"
  },
  "language_info": {
   "codemirror_mode": {
    "name": "ipython",
    "version": 3
   },
   "file_extension": ".py",
   "mimetype": "text/x-python",
   "name": "python",
   "nbconvert_exporter": "python",
   "pygments_lexer": "ipython3",
   "version": "3.7.5"
  }
 },
 "nbformat": 4,
 "nbformat_minor": 4
}
